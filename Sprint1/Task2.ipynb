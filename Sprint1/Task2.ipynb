{
 "cells": [
  {
   "cell_type": "markdown",
   "metadata": {},
   "source": [
    "<h1 style=\"color:DodgerBlue\">Создание экземпляров классов (объектов) и взаимодействие объектов между собой</h1>"
   ]
  },
  {
   "cell_type": "markdown",
   "metadata": {},
   "source": [
    "### Создание экземпляров классов (объектов)\n",
    "\n",
    "В C#, экземпляр класса создается с помощью оператора `new`, который выделяет память для нового объекта и вызывает конструктор класса для инициализации этого объекта. Конструктор — это специальный метод в классе, который имеет то же имя, что и класс, и используется для установки начального состояния объекта.\n",
    "\n",
    "#### Пример создания экземпляров классов Vehicle и Car\n",
    "\n",
    "```csharp\n",
    "Vehicle myVehicle = new Vehicle();\n",
    "Car myCar = new Car();\n",
    "```\n",
    "\n",
    "В этом примере создаются два объекта: один для класса `Vehicle` и другой для класса `Car`. Конструкторы этих классов будут автоматически вызваны при создании объектов.\n",
    "\n",
    "### Взаимодействие объектов между Собой\n",
    "\n",
    "Взаимодействие объектов между собой означает, что один объект может вызывать методы другого объекта или обращаться к его свойствам (если они доступны). Это позволяет объектам обмениваться информацией и координировать свои действия.\n",
    "\n",
    "#### Пример взаимодействия объектов\n",
    "\n",
    "```csharp\n",
    "myVehicle.Color = \"Red\";\n",
    "myVehicle.Speed = 60;\n",
    "\n",
    "myCar.Color = \"Blue\";\n",
    "myCar.FuelLevel = 100;\n",
    "myCar.Refuel(50); // Увеличиваем уровень топлива на 50\n",
    "```\n",
    "\n",
    "В этом примере мы устанавливаем свойства `Color` и `Speed` для объекта `myVehicle`, а также свойства `Color` и `FuelLevel` для объекта `myCar`. Затем мы вызываем метод `Refuel` у объекта `myCar`, чтобы увеличить его уровень топлива.\n",
    "\n",
    "### Закрепление правил использования модификаторов доступа\n",
    "\n",
    "Модификаторы доступа определяют уровень доступности членов класса из других частей кода. Важно правильно использовать модификаторы доступа для обеспечения безопасности и инкапсуляции данных.\n",
    "\n",
    "#### Примеры модификаторов доступа в классах Vehicle и Car\n",
    "\n",
    "```csharp\n",
    "public class Vehicle\n",
    "{\n",
    "    public string Color { get; set; } // public свойство\n",
    "    private int speed; // private поле\n",
    "\n",
    "    protected void SetSpeed(int value) // protected метод\n",
    "    {\n",
    "        speed = value;\n",
    "    }\n",
    "}\n",
    "\n",
    "public class Car : Vehicle\n",
    "{\n",
    "    private int fuelLevel; // private поле\n",
    "\n",
    "    public void Refuel(int amount) // public метод\n",
    "    {\n",
    "        fuelLevel += amount;\n",
    "    }\n",
    "\n",
    "    protected void CheckSpeedLimit() // protected метод\n",
    "    {\n",
    "        if (speed > 120)\n",
    "        {\n",
    "            Console.WriteLine(\"Превышен скоростной режим!\");\n",
    "        }\n",
    "    }\n",
    "}\n",
    "```\n",
    "\n",
    "В этом примере:\n",
    "- Свойство `Color` в классе `Vehicle` объявлено как `public`, что позволяет доступ к нему из любого места в коде.\n",
    "- Поле `speed` в классе `Vehicle` объявлено как `private`, что ограничивает доступ к нему только внутри класса `Vehicle`.\n",
    "- Метод `SetSpeed` в классе `Vehicle` объявлен как `protected`, что позволяет доступ к нему из класса `Vehicle` и его производных классов.\n",
    "- Поле `fuelLevel` в классе `Car` объявлено как `private`, ограничивая доступ к нему только внутри класса `Car`.\n",
    "- Методы `Refuel` и `CheckSpeedLimit` в классе `Car` демонстрируют использование модификаторов доступа для контроля над тем, как объекты могут взаимодействовать друг с другом.\n",
    "\n",
    "### Заключение\n",
    "\n",
    "Создание экземпляров классов и взаимодействие между объектами являются ключевыми аспектами объектно-ориентированного программирования в C#. Правильное использование модификаторов доступа обеспечивает безопасность данных и инкапсуляцию, позволяя разработчикам создавать более надежные и управляемые программы."
   ]
  },
  {
   "cell_type": "markdown",
   "metadata": {},
   "source": [
    "<h4 style=\"color:DodgerBlue\">Для проверки напишите пример кода на основе классов Car и Vehicle ниже в блоке:</h4>\n",
    "\n",
    "----"
   ]
  },
  {
   "cell_type": "code",
   "execution_count": 1,
   "metadata": {
    "dotnet_interactive": {
     "language": "csharp"
    },
    "polyglot_notebook": {
     "kernelName": "csharp"
    }
   },
   "outputs": [
    {
     "name": "stdout",
     "output_type": "stream",
     "text": [
      "Превышен скоростной режим!\r\n"
     ]
    }
   ],
   "source": [
    "public class Vehicle\n",
    "{\n",
    "    public string Color { get; set; }\n",
    "    private int speed;\n",
    "\n",
    "    protected int Speed {\n",
    "        get { return speed; }\n",
    "    }\n",
    "\n",
    "    public void SetSpeed(int value)\n",
    "    {\n",
    "        speed = value;\n",
    "    }\n",
    "}\n",
    "\n",
    "public class Car : Vehicle\n",
    "{\n",
    "    private int fuelLevel;\n",
    "\n",
    "    public void Refuel(int amount)\n",
    "    {\n",
    "        fuelLevel += amount;\n",
    "    }\n",
    "\n",
    "    public void CheckSpeedLimit()\n",
    "    {\n",
    "        if (Speed > 120)\n",
    "        {\n",
    "            Console.WriteLine(\"Превышен скоростной режим!\");\n",
    "        }\n",
    "    }\n",
    "}\n",
    "\n",
    "Car car = new Car();\n",
    "Vehicle vehicle = new Vehicle();\n",
    "\n",
    "\n",
    "car.SetSpeed(150);\n",
    "car.CheckSpeedLimit();"
   ]
  },
  {
   "cell_type": "markdown",
   "metadata": {},
   "source": [
    "<h4 style=\"color:Red\">Задание:</h4>\n",
    "\n",
    "----\n",
    "\n",
    "Ниже в блоке по примеру создайте базовый класс Animal и производные классы (2-3 например Dog, Cat и так далее) реализуйте структуру и объявление класса, включая свойства, геттеры и сеттеры, а также статические и обычными атрибуты и метода класса с реализацией взаимодействия между объектами."
   ]
  },
  {
   "cell_type": "code",
   "execution_count": 3,
   "metadata": {
    "dotnet_interactive": {
     "language": "csharp"
    },
    "polyglot_notebook": {
     "kernelName": "csharp"
    }
   },
   "outputs": [
    {
     "name": "stdout",
     "output_type": "stream",
     "text": [
      "Кот говорит Мяу!\n",
      "Масса кота не может быть настолько большой!\n",
      "\n",
      "Собака говорит: Гав!\n",
      "Скорость собаки не может быть настолько большой!\n"
     ]
    }
   ],
   "source": [
    "public class Animal\n",
    "{\n",
    "    private string color { get; set; }\n",
    "    private int weight { get; set; }\n",
    "    private int speed { get; set; }\n",
    "\n",
    "\n",
    "    protected int Weight {\n",
    "        get { return weight; }\n",
    "    }\n",
    "\n",
    "    protected int Speed {\n",
    "        get { return speed; }\n",
    "    }\n",
    "\n",
    "    protected string Color {\n",
    "        get { return color; }\n",
    "    }\n",
    "\n",
    "    public void SetColor(string value)\n",
    "    {\n",
    "        color = value;\n",
    "    }\n",
    "\n",
    "    public void SetWeight(int value)\n",
    "    {\n",
    "        weight = value;\n",
    "    }\n",
    "\n",
    "    public void SetSpeed(int value)\n",
    "    {\n",
    "        speed = value;\n",
    "    }\n",
    "}\n",
    "\n",
    "public class Cat : Animal\n",
    "{\n",
    "    private const string sound = \"Мяу!\";\n",
    "\n",
    "    public void DisplaySound(){\n",
    "        Console.WriteLine($\"Кот говорит {sound}\");\n",
    "    }\n",
    "\n",
    "    \n",
    "    public void CheckWeight()\n",
    "    {\n",
    "        if (Weight > 25)\n",
    "        {\n",
    "            Console.WriteLine(\"Масса кота не может быть настолько большой!\");\n",
    "        }\n",
    "    }\n",
    "}\n",
    "\n",
    "public class Dog : Animal\n",
    "{\n",
    "    \n",
    "    private const string sound = \"Гав!\";\n",
    "    \n",
    "    public void DisplaySound(){\n",
    "        Console.WriteLine($\"Собака говорит: {sound}\");\n",
    "    }\n",
    "\n",
    "    \n",
    "    public void CheckSpeed()\n",
    "    {\n",
    "        if (Speed > 75)\n",
    "        {\n",
    "            Console.WriteLine(\"Скорость собаки не может быть настолько большой!\");\n",
    "        }\n",
    "    }\n",
    "}\n",
    "\n",
    "Animal animalCat = new Animal();\n",
    "Cat cat = new Cat();\n",
    "\n",
    "cat.DisplaySound();\n",
    "cat.SetColor(\"Чёрный\");\n",
    "cat.SetWeight(260);\n",
    "cat.CheckWeight();\n",
    "\n",
    "Console.WriteLine();\n",
    "\n",
    "Animal animalDog = new Animal();\n",
    "Dog dog = new Dog();\n",
    "dog.DisplaySound();\n",
    "dog.SetColor(\"Рыжий\");\n",
    "dog.SetSpeed(78);\n",
    "dog.CheckSpeed();\n"
   ]
  }
 ],
 "metadata": {
  "kernelspec": {
   "display_name": ".NET (C#)",
   "language": "C#",
   "name": ".net-csharp"
  },
  "polyglot_notebook": {
   "kernelInfo": {
    "defaultKernelName": "csharp",
    "items": [
     {
      "aliases": [],
      "languageName": "csharp",
      "name": "csharp"
     }
    ]
   }
  }
 },
 "nbformat": 4,
 "nbformat_minor": 2
}
